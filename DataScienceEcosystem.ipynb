{
 "cells": [
  {
   "cell_type": "markdown",
   "id": "0823dbfc-0564-4ea7-b2ce-0c7570b7b610",
   "metadata": {},
   "source": [
    "# Data Science Tools and Ecosystem"
   ]
  },
  {
   "cell_type": "markdown",
   "id": "b8b50b20-ca41-425c-86c2-2f933f77cf20",
   "metadata": {},
   "source": [
    "In this notebook, Data Science Tools and Ecosystem are summarized."
   ]
  },
  {
   "cell_type": "markdown",
   "id": "83edf9f1-c859-4c8b-9958-14d6ccdcc9ea",
   "metadata": {},
   "source": [
    "**Objectives**\n",
    "- Listing popular languages for data Science\n",
    "- Listing commonly used libraires in Data Science\n",
    "-  Creating a table with Data Science Tools\n"
   ]
  },
  {
   "cell_type": "markdown",
   "id": "cb6700cd-cf06-450e-b35b-5cc87d8d00c2",
   "metadata": {
    "tags": []
   },
   "source": [
    "Some of the popular languages that Data Scientists use are:\n",
    "1. Python\n",
    "2. R\n",
    "3. Julia"
   ]
  },
  {
   "cell_type": "markdown",
   "id": "8c849779-ec44-4b1b-8229-ed27f853d957",
   "metadata": {},
   "source": [
    "Some of the commonly used libraries used by Data Scientists include:\n",
    "1. pandas (Python)\n",
    "2. scikit (Python)\n",
    "3. ggplot (R)"
   ]
  },
  {
   "cell_type": "markdown",
   "id": "7f40f16b-37e3-49d4-9608-e6c669da412c",
   "metadata": {},
   "source": [
    "| Data Science Tools |\n",
    "|----------------------|\n",
    "| RStudio |\n",
    "| Apache Spark |\n",
    "| TensorFlow |"
   ]
  },
  {
   "cell_type": "markdown",
   "id": "34002ef2-f81b-4178-ac9c-a9a4a8e4027a",
   "metadata": {},
   "source": [
    "### Below are a few examples of evaluating arithmetic expressions in Python"
   ]
  },
  {
   "cell_type": "code",
   "execution_count": 4,
   "id": "10e7e3e6-ea9d-49a2-be21-14388bb443fe",
   "metadata": {
    "tags": []
   },
   "outputs": [
    {
     "data": {
      "text/plain": [
       "17"
      ]
     },
     "execution_count": 4,
     "metadata": {},
     "output_type": "execute_result"
    }
   ],
   "source": [
    "# This a simple arithmetic expression to mutiply then add integers\n",
    "(3*4)+5"
   ]
  },
  {
   "cell_type": "code",
   "execution_count": 5,
   "id": "3614b739-881d-4f6b-9a72-7db508b3ff3f",
   "metadata": {
    "tags": []
   },
   "outputs": [
    {
     "data": {
      "text/plain": [
       "3.3333333333333335"
      ]
     },
     "execution_count": 5,
     "metadata": {},
     "output_type": "execute_result"
    }
   ],
   "source": [
    "# This will convert 200 minutes to hours by diving by 60\n",
    "200/60"
   ]
  },
  {
   "cell_type": "markdown",
   "id": "2943d1e3-06d7-4075-985a-81b8b9bba819",
   "metadata": {},
   "source": [
    "## Author\n",
    "Jesús Bellver Arnau"
   ]
  },
  {
   "cell_type": "code",
   "execution_count": null,
   "id": "f19a68f1-91ec-4bd6-b114-df3007161a0b",
   "metadata": {},
   "outputs": [],
   "source": []
  }
 ],
 "metadata": {
  "kernelspec": {
   "display_name": "Python",
   "language": "python",
   "name": "conda-env-python-py"
  },
  "language_info": {
   "codemirror_mode": {
    "name": "ipython",
    "version": 3
   },
   "file_extension": ".py",
   "mimetype": "text/x-python",
   "name": "python",
   "nbconvert_exporter": "python",
   "pygments_lexer": "ipython3",
   "version": "3.7.12"
  }
 },
 "nbformat": 4,
 "nbformat_minor": 5
}
